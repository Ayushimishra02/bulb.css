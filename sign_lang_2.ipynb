{
  "nbformat": 4,
  "nbformat_minor": 0,
  "metadata": {
    "colab": {
      "provenance": []
    },
    "kernelspec": {
      "name": "python3",
      "display_name": "Python 3"
    },
    "language_info": {
      "name": "python"
    }
  },
  "cells": [
    {
      "cell_type": "code",
      "execution_count": null,
      "metadata": {
        "id": "EVPVbSY2w7dQ"
      },
      "outputs": [],
      "source": [
        "from google.colab import files\n",
        "files.upload()"
      ]
    },
    {
      "cell_type": "code",
      "source": [
        "!mkdir -p ~/.kaggle\n",
        "!cp kaggle.json ~/.kaggle\n",
        "!chmod 600 ~/.kaggle/kaggle.json"
      ],
      "metadata": {
        "id": "_Ls8tvM13k_1"
      },
      "execution_count": null,
      "outputs": []
    },
    {
      "cell_type": "code",
      "source": [
        "!pip install kaggle"
      ],
      "metadata": {
        "collapsed": true,
        "id": "gvlwKAzw47Lk"
      },
      "execution_count": null,
      "outputs": []
    },
    {
      "cell_type": "code",
      "source": [
        "!kaggle datasets download -d ayuraj/asl-dataset\n",
        "#downloading the dataset"
      ],
      "metadata": {
        "id": "RTb8DdsR49fx"
      },
      "execution_count": null,
      "outputs": []
    },
    {
      "cell_type": "code",
      "source": [
        "!unzip asl-dataset.zip -d asl_data"
      ],
      "metadata": {
        "id": "2mH74Der6IgS"
      },
      "execution_count": null,
      "outputs": []
    },
    {
      "cell_type": "code",
      "source": [
        "import numpy as np  #for performing numerical\n",
        "import tensorflow as tf\n",
        "import matplotlib.pyplot as plt#helps in using graphs and images\n",
        "import os      #helps in directing directories and files\n",
        "from tensorflow.keras.preprocessing.image import ImageDataGenerator #helps in importing all files and helps in changing limited datset(augmentation)"
      ],
      "metadata": {
        "id": "_A8oQFGH3liy"
      },
      "execution_count": null,
      "outputs": []
    },
    {
      "cell_type": "code",
      "source": [
        "train_datagen=ImageDataGenerator(rescale=1/255.0,validation_split=0.2,\n",
        "rotation_range=20,\n",
        "zoom_range=0.2,\n",
        "width_shift_range=0.2,\n",
        "height_shift_range=0.2,\n",
        "horizontal_flip='true') # Removed the trailing comma"
      ],
      "metadata": {
        "id": "_pOqxv2q2Dbn"
      },
      "execution_count": null,
      "outputs": []
    },
    {
      "cell_type": "code",
      "source": [
        "train_generator=train_datagen.flow_from_directory(\n",
        "'/content/asl_data/asl_dataset',\n",
        "target_size=(64,64),\n",
        "batch_size=32,\n",
        "color_mode='grayscale',\n",
        "class_mode='categorical',\n",
        "subset='training'\n",
        ")\n",
        "val_generator=train_datagen.flow_from_directory(\n",
        "'/content/asl_data/asl_dataset',\n",
        "target_size=(64,64),\n",
        "batch_size=32,\n",
        "color_mode='grayscale',\n",
        "class_mode='categorical',\n",
        "subset='validation'\n",
        ")"
      ],
      "metadata": {
        "id": "pKMDvqMMMb0D"
      },
      "execution_count": null,
      "outputs": []
    },
    {
      "cell_type": "code",
      "source": [
        "import os\n",
        "\n",
        "dataset_path = '/content/asl_data/asl_dataset'\n",
        "classes = sorted(os.listdir(dataset_path))\n",
        "print(f\"Number of classes found: {len(classes)}\")\n",
        "print(\"Classes:\", classes)\n"
      ],
      "metadata": {
        "id": "QrgWX3HsGyV-"
      },
      "execution_count": null,
      "outputs": []
    },
    {
      "cell_type": "code",
      "source": [
        "from tensorflow.keras.models import Sequential\n",
        "from tensorflow.keras.layers import Conv2D,MaxPooling2D,Dense,Flatten,Dropout\n",
        "\n",
        "model=Sequential([\n",
        "Conv2D(64,(3,3),activation='relu',input_shape=(64,64,1)),\n",
        "MaxPooling2D(2,2),\n",
        "Conv2D(128,(3,3),activation='relu'),\n",
        "MaxPooling2D(2,2),\n",
        "Flatten(),\n",
        "Dense(128,activation='relu'),\n",
        "Dropout(0.5),\n",
        "Dense(37,activation='softmax') # Changed to 37 units to match the number of classes\n",
        "])"
      ],
      "metadata": {
        "id": "pSS1uePGDZ1R"
      },
      "execution_count": null,
      "outputs": []
    },
    {
      "cell_type": "code",
      "source": [
        "model.compile(optimizer='adam',loss='categorical_crossentropy',metrics=['accuracy'])\n",
        "history = model.fit(train_generator,validation_data=val_generator,epochs=5) # Assign the output of model.fit to history"
      ],
      "metadata": {
        "id": "HcF2G_CrDJtg"
      },
      "execution_count": null,
      "outputs": []
    },
    {
      "cell_type": "code",
      "source": [
        "model.save('asl_model.h5')\n"
      ],
      "metadata": {
        "colab": {
          "base_uri": "https://localhost:8080/"
        },
        "id": "FMl2i-FUWWlQ",
        "outputId": "911054c0-fcae-47fc-fe42-4fcf905e2539"
      },
      "execution_count": null,
      "outputs": [
        {
          "output_type": "stream",
          "name": "stderr",
          "text": [
            "WARNING:absl:You are saving your model as an HDF5 file via `model.save()` or `keras.saving.save_model(model)`. This file format is considered legacy. We recommend using instead the native Keras format, e.g. `model.save('my_model.keras')` or `keras.saving.save_model(model, 'my_model.keras')`. \n"
          ]
        }
      ]
    },
    {
      "cell_type": "code",
      "source": [
        "plt.plot(history.history['accuracy'],label=['train accuracy'])\n",
        "plt.plot(history.history['val_accuracy'],label='val accuracy')\n",
        "plt.show()\n",
        "plt.axis('off')\n"
      ],
      "metadata": {
        "id": "5hG3AiV0IW-Z"
      },
      "execution_count": null,
      "outputs": []
    },
    {
      "cell_type": "code",
      "source": [
        "from google.colab import files\n",
        "files.upload()"
      ],
      "metadata": {
        "id": "DMBypfSWSpUa"
      },
      "execution_count": null,
      "outputs": []
    },
    {
      "cell_type": "code",
      "source": [
        "from tensorflow.keras.preprocessing import image\n",
        "import numpy as np\n",
        "\n",
        "def preprocess_image(img_path):\n",
        "    img = image.load_img(img_path, target_size=(64, 64), color_mode='grayscale')\n",
        "    img_array = image.img_to_array(img) / 255.0\n",
        "    img_array = np.expand_dims(img_array, axis=0)\n",
        "    return img_array\n"
      ],
      "metadata": {
        "id": "JRnvTlePS4VY"
      },
      "execution_count": null,
      "outputs": []
    },
    {
      "cell_type": "code",
      "source": [
        "from tensorflow.keras.models import load_model\n",
        "\n",
        "model = load_model('asl_model.h5')  # Make sure this is your trained model\n",
        "\n",
        "def predict_sign(img_path):\n",
        "    img_array = preprocess_image(img_path)\n",
        "    prediction = model.predict(img_array)\n",
        "    predicted_class = np.argmax(prediction)\n",
        "    print(f\"Predicted Letter: {chr(predicted_class + 65)}\")"
      ],
      "metadata": {
        "id": "-skSEYonUwe0"
      },
      "execution_count": null,
      "outputs": []
    },
    {
      "cell_type": "code",
      "source": [
        "predict_sign('gest_5.png')\n"
      ],
      "metadata": {
        "id": "nnVy2AcsYtmS"
      },
      "execution_count": null,
      "outputs": []
    }
  ]
}